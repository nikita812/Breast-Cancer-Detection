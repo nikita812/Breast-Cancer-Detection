{
  "nbformat": 4,
  "nbformat_minor": 0,
  "metadata": {
    "colab": {
      "name": "breast cancer detection.ipynb",
      "provenance": [],
      "authorship_tag": "ABX9TyN/H/2ASPb5twtq8j+6TcCf",
      "include_colab_link": true
    },
    "kernelspec": {
      "name": "python3",
      "display_name": "Python 3"
    }
  },
  "cells": [
    {
      "cell_type": "markdown",
      "metadata": {
        "id": "view-in-github",
        "colab_type": "text"
      },
      "source": [
        "<a href=\"https://colab.research.google.com/github/nikita812/Breast-Cancer-Detection/blob/main/breast_cancer_detection.ipynb\" target=\"_parent\"><img src=\"https://colab.research.google.com/assets/colab-badge.svg\" alt=\"Open In Colab\"/></a>"
      ]
    },
    {
      "cell_type": "code",
      "metadata": {
        "id": "7p2iZ9t_tiPG"
      },
      "source": [
        "import pandas as pd"
      ],
      "execution_count": 1,
      "outputs": []
    },
    {
      "cell_type": "code",
      "metadata": {
        "id": "YSKdz4cmxJ7x"
      },
      "source": [
        "dataset = pd.read_csv('breast_cancer.csv')\r\n",
        "X = dataset.iloc[:, 1:-1].values\r\n",
        "y = dataset.iloc[:, -1].values"
      ],
      "execution_count": 2,
      "outputs": []
    },
    {
      "cell_type": "code",
      "metadata": {
        "id": "YQ7FE1Ajcz9c"
      },
      "source": [
        "from sklearn.model_selection import train_test_split\r\n",
        "X_train, X_test, y_train, y_test = train_test_split(X,y, test_size = 0.2 ,random_state = 0)"
      ],
      "execution_count": 3,
      "outputs": []
    },
    {
      "cell_type": "code",
      "metadata": {
        "colab": {
          "base_uri": "https://localhost:8080/"
        },
        "id": "aFpFVFnEe6ux",
        "outputId": "0153fde4-f632-43e5-c389-ea43da30aa3b"
      },
      "source": [
        "from sklearn.linear_model import LogisticRegression\r\n",
        "classifier = LogisticRegression(random_state = 0)\r\n",
        "classifier.fit(X_train,y_train)"
      ],
      "execution_count": 4,
      "outputs": [
        {
          "output_type": "execute_result",
          "data": {
            "text/plain": [
              "LogisticRegression(C=1.0, class_weight=None, dual=False, fit_intercept=True,\n",
              "                   intercept_scaling=1, l1_ratio=None, max_iter=100,\n",
              "                   multi_class='auto', n_jobs=None, penalty='l2',\n",
              "                   random_state=0, solver='lbfgs', tol=0.0001, verbose=0,\n",
              "                   warm_start=False)"
            ]
          },
          "metadata": {
            "tags": []
          },
          "execution_count": 4
        }
      ]
    },
    {
      "cell_type": "code",
      "metadata": {
        "id": "xXqJ7NdaiOsk"
      },
      "source": [
        "y_pred = classifier.predict(X_test)"
      ],
      "execution_count": 5,
      "outputs": []
    },
    {
      "cell_type": "code",
      "metadata": {
        "colab": {
          "base_uri": "https://localhost:8080/"
        },
        "id": "kZv0BAReibNP",
        "outputId": "80f89683-440f-4919-f6f3-be47ebf7a6a0"
      },
      "source": [
        "from sklearn.metrics import confusion_matrix\r\n",
        "cm= confusion_matrix(y_test, y_pred)\r\n",
        "print (cm)"
      ],
      "execution_count": 7,
      "outputs": [
        {
          "output_type": "stream",
          "text": [
            "[[84  3]\n",
            " [ 3 47]]\n"
          ],
          "name": "stdout"
        }
      ]
    },
    {
      "cell_type": "code",
      "metadata": {
        "colab": {
          "base_uri": "https://localhost:8080/"
        },
        "id": "GWeLaoO9kfNQ",
        "outputId": "0adedc91-06a4-4739-e57a-b02ad66e3258"
      },
      "source": [
        "from sklearn.model_selection import cross_val_score\r\n",
        "accuracies = cross_val_score (estimator = classifier, X = X_train, y= y_train, cv = 10)\r\n",
        "\r\n",
        "print (\"Accuacy: {:.2f} %\". format(accuracies.mean()*100))\r\n",
        "print(\"Standard Deviation : {:.2f} %\".format(accuracies.std()*100))"
      ],
      "execution_count": 8,
      "outputs": [
        {
          "output_type": "stream",
          "text": [
            "Accuacy: 96.70 %\n",
            "Standard Deviation : 1.97 %\n"
          ],
          "name": "stdout"
        }
      ]
    },
    {
      "cell_type": "code",
      "metadata": {
        "id": "V-y_lV-VzVPj"
      },
      "source": [
        ""
      ],
      "execution_count": null,
      "outputs": []
    }
  ]
}